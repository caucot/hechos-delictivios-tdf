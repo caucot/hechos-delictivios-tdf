{
 "cells": [
  {
   "cell_type": "markdown",
   "id": "2eb055e7-a7f9-40ea-b46a-0d82d2a32432",
   "metadata": {},
   "source": [
    "# Librerias"
   ]
  },
  {
   "cell_type": "code",
   "execution_count": 1,
   "id": "54478b03-ffe8-426c-9f83-f0b6577bd388",
   "metadata": {},
   "outputs": [],
   "source": [
    "import numpy as np\n",
    "import pandas as pd"
   ]
  },
  {
   "cell_type": "markdown",
   "id": "c3a32710-b400-4f24-81a4-9cd4f42828c1",
   "metadata": {},
   "source": [
    "# Datasets"
   ]
  },
  {
   "cell_type": "markdown",
   "id": "2d0b8596-1b9d-4bba-9b7c-79ce476ea886",
   "metadata": {},
   "source": [
    "### Dataset: SAT-Propiedad-BU_2017-2023\n",
    "- Origen: Bases de datos de estadísticas criminales. Publicadas por la la Dirección Nacional de Estadística Criminal del Ministerio de Seguridad de la\n",
    "Nación. \n",
    "- Enlace: https://www.argentina.gob.ar/seguridad/estadisticascriminales/bases-de-datos\n",
    "\n",
    "Este dataset contiene datos de todas las provincias de la Argentina desde el 2017 hasta el 2023, con el fin de realizar una prediccion centrado unicamente en la provincia de Tierra del Fuego, se filtro el dataset conservando los registros correspondientes a la provincia."
   ]
  },
  {
   "cell_type": "code",
   "execution_count": 2,
   "id": "7ceb4754-4400-4a34-9fda-aed215c0f542",
   "metadata": {},
   "outputs": [],
   "source": [
    "# Definicion de un path para acortar la definicion de la ruta\n",
    "path = \"\\\\Users\\\\Usuario\\\\Desktop\\\\hechos-delictivios-tdf\\\\\""
   ]
  },
  {
   "cell_type": "code",
   "execution_count": 3,
   "id": "d30639c6-da31-4770-ad21-1471f03f02b0",
   "metadata": {},
   "outputs": [],
   "source": [
    "df_nacional = pd.read_excel(path + r\"data\\raw\\SAT-Propiedad-BU_2017-2023.xlsx\")"
   ]
  },
  {
   "cell_type": "code",
   "execution_count": 4,
   "id": "a1f48ec5-7e77-4671-98c9-8ce280fb9884",
   "metadata": {},
   "outputs": [
    {
     "data": {
      "text/plain": [
       "Index(['provincia_id', 'provincia_nombre', 'departamento_id',\n",
       "       'departamento_nombre', 'anio', 'mes', 'codigo_delito_sat_prop',\n",
       "       'nombre_delito_sat_prop', 'cantidad_hechos',\n",
       "       'cantidad_hechos_inc_conocido', 'cantidad_hechos_inc_desconocido',\n",
       "       'cantidad_hechos_lugar_via_publ', 'cantidad_hechos_lugar_establec',\n",
       "       'cantidad_hechos_lugar_dom_part', 'cantidad_hechos_lugar_sd',\n",
       "       'cantidad_hechos_arma_de_fuego', 'cantidad_hechos_arma_otra',\n",
       "       'cantidad_hechos_arma_sin_arma', 'cantidad_hechos_arma_sd',\n",
       "       'cantidad_hechos_origen_denuncia', 'cantidad_hechos_origen_intervenc',\n",
       "       'cantidad_hechos_origen_orden_jud', 'cantidad_hechos_origen_otro',\n",
       "       'cant_hechos_agrav_por_lesiones', 'cant_hechos_agrav_sin_lesiones',\n",
       "       'cantidad_inculpados', 'cantidad_inculpados_sexo_masc',\n",
       "       'cantidad_inculpados_sexo_fem', 'cantidad_inculpados_sexo_sd',\n",
       "       'cantidad_inculpados_edad_0_15', 'cantidad_inculpados_edad_16_17',\n",
       "       'cantidad_inculpados_edad_mas_18', 'cantidad_inculpados_edad_sd'],\n",
       "      dtype='object')"
      ]
     },
     "execution_count": 4,
     "metadata": {},
     "output_type": "execute_result"
    }
   ],
   "source": [
    "df_nacional.columns"
   ]
  },
  {
   "cell_type": "code",
   "execution_count": 5,
   "id": "5eaf61d9-0e80-4378-b10b-bcd345b91e22",
   "metadata": {},
   "outputs": [
    {
     "data": {
      "text/plain": [
       "array(['Ciudad Autónoma de Buenos Aires', 'Buenos Aires', 'Catamarca',\n",
       "       'Córdoba', 'Corrientes', 'Chaco', 'Chubut', 'Entre Ríos',\n",
       "       'Formosa', 'Jujuy', 'La Pampa', 'La Rioja', 'Mendoza', 'Misiones',\n",
       "       'Neuquén', 'Río Negro', 'Salta', 'San Juan', 'San Luis',\n",
       "       'Santa Cruz', 'Santa Fe', 'Santiago del Estero', 'Tucumán',\n",
       "       'Tierra del Fuego'], dtype=object)"
      ]
     },
     "execution_count": 5,
     "metadata": {},
     "output_type": "execute_result"
    }
   ],
   "source": [
    "df_nacional[\"provincia_nombre\"].unique()"
   ]
  },
  {
   "cell_type": "code",
   "execution_count": 6,
   "id": "50e1e68f-722d-4bd9-91a4-93fdbec12ed0",
   "metadata": {},
   "outputs": [
    {
     "data": {
      "text/plain": [
       "(2253, 33)"
      ]
     },
     "execution_count": 6,
     "metadata": {},
     "output_type": "execute_result"
    }
   ],
   "source": [
    "df_TDF = df_nacional[df_nacional['provincia_nombre'] == 'Tierra del Fuego']\n",
    "df_TDF.shape"
   ]
  },
  {
   "cell_type": "code",
   "execution_count": 7,
   "id": "cc7c0083-8fcc-486a-a566-ea75b66f3eca",
   "metadata": {},
   "outputs": [],
   "source": [
    "df_TDF.to_csv(path + r\"data\\raw\\df_TDF_SAT-Propiedad-BU_2017-2023.csv\", index=False)"
   ]
  },
  {
   "cell_type": "markdown",
   "id": "85b679ca-0e1b-470d-ab16-7629144185ff",
   "metadata": {},
   "source": [
    "### Dataset: Poblacion-total-segun-ingreso-medio-per-capita\n",
    "- Origen: IPIEC\n",
    "- Fuente: https://ipiec.tierradelfuego.gob.ar/estadisticas-sociales-y-demograficas/\n",
    "\n",
    "Este dataset indica un aproximado de la poblacion total desde el año 2016 hasta 2024 incluyendo solo las ciudades de Rio Grande y Ushuaia."
   ]
  },
  {
   "cell_type": "code",
   "execution_count": 8,
   "id": "e67290f7-636b-4eb7-8c1d-1a6f6193103c",
   "metadata": {},
   "outputs": [],
   "source": [
    "ruta_excel = path + r\"data\\raw\\06_1_01-Poblacion-total-segun-ingreso-medio-per-capita.xlsx\"\n",
    "df_poblacion = pd.read_excel(ruta_excel, header=2) #Los encabazados estan en la fila 3 del excel"
   ]
  },
  {
   "cell_type": "code",
   "execution_count": 9,
   "id": "779553cd-8663-41ce-a35f-acd61509a778",
   "metadata": {},
   "outputs": [],
   "source": [
    "#Se especifican las casillas que tienen los datos que requiero\n",
    "df_poblacion_filtrado = df_poblacion.iloc[4:32] "
   ]
  },
  {
   "cell_type": "code",
   "execution_count": 10,
   "id": "a3e3816d-e4c0-4359-9826-5601d0c3dc4f",
   "metadata": {},
   "outputs": [
    {
     "data": {
      "text/html": [
       "<div>\n",
       "<style scoped>\n",
       "    .dataframe tbody tr th:only-of-type {\n",
       "        vertical-align: middle;\n",
       "    }\n",
       "\n",
       "    .dataframe tbody tr th {\n",
       "        vertical-align: top;\n",
       "    }\n",
       "\n",
       "    .dataframe thead th {\n",
       "        text-align: right;\n",
       "    }\n",
       "</style>\n",
       "<table border=\"1\" class=\"dataframe\">\n",
       "  <thead>\n",
       "    <tr style=\"text-align: right;\">\n",
       "      <th></th>\n",
       "      <th>Año</th>\n",
       "      <th>Trimestre</th>\n",
       "      <th>Población total</th>\n",
       "      <th>Ingreso total (en miles)</th>\n",
       "      <th>Ingreso medio per cápita (en pesos)</th>\n",
       "    </tr>\n",
       "  </thead>\n",
       "  <tbody>\n",
       "    <tr>\n",
       "      <th>4</th>\n",
       "      <td>2017</td>\n",
       "      <td>1er trimestre</td>\n",
       "      <td>151966</td>\n",
       "      <td>1995313</td>\n",
       "      <td>13130</td>\n",
       "    </tr>\n",
       "    <tr>\n",
       "      <th>5</th>\n",
       "      <td>NaN</td>\n",
       "      <td>2do trimestre</td>\n",
       "      <td>152940</td>\n",
       "      <td>2004062</td>\n",
       "      <td>13104</td>\n",
       "    </tr>\n",
       "    <tr>\n",
       "      <th>6</th>\n",
       "      <td>NaN</td>\n",
       "      <td>3er trimestre</td>\n",
       "      <td>154078</td>\n",
       "      <td>2238184</td>\n",
       "      <td>14526</td>\n",
       "    </tr>\n",
       "    <tr>\n",
       "      <th>7</th>\n",
       "      <td>NaN</td>\n",
       "      <td>4to trimestre</td>\n",
       "      <td>154882</td>\n",
       "      <td>2321392</td>\n",
       "      <td>14988</td>\n",
       "    </tr>\n",
       "    <tr>\n",
       "      <th>8</th>\n",
       "      <td>2018</td>\n",
       "      <td>1er trimestre</td>\n",
       "      <td>155872</td>\n",
       "      <td>2303532</td>\n",
       "      <td>14778</td>\n",
       "    </tr>\n",
       "    <tr>\n",
       "      <th>9</th>\n",
       "      <td>NaN</td>\n",
       "      <td>2do trimestre</td>\n",
       "      <td>156772</td>\n",
       "      <td>2451815</td>\n",
       "      <td>15639</td>\n",
       "    </tr>\n",
       "    <tr>\n",
       "      <th>10</th>\n",
       "      <td>NaN</td>\n",
       "      <td>3er trimestre</td>\n",
       "      <td>157720</td>\n",
       "      <td>2500662</td>\n",
       "      <td>15855</td>\n",
       "    </tr>\n",
       "    <tr>\n",
       "      <th>11</th>\n",
       "      <td>NaN</td>\n",
       "      <td>4to trimestre</td>\n",
       "      <td>158763</td>\n",
       "      <td>2740321</td>\n",
       "      <td>17260</td>\n",
       "    </tr>\n",
       "    <tr>\n",
       "      <th>12</th>\n",
       "      <td>2019</td>\n",
       "      <td>1er trimestre</td>\n",
       "      <td>159849</td>\n",
       "      <td>2696176</td>\n",
       "      <td>16867</td>\n",
       "    </tr>\n",
       "  </tbody>\n",
       "</table>\n",
       "</div>"
      ],
      "text/plain": [
       "     Año      Trimestre Población total Ingreso total (en miles)  \\\n",
       "4   2017  1er trimestre          151966                  1995313   \n",
       "5    NaN  2do trimestre          152940                  2004062   \n",
       "6    NaN  3er trimestre          154078                  2238184   \n",
       "7    NaN  4to trimestre          154882                  2321392   \n",
       "8   2018  1er trimestre          155872                  2303532   \n",
       "9    NaN  2do trimestre          156772                  2451815   \n",
       "10   NaN  3er trimestre          157720                  2500662   \n",
       "11   NaN  4to trimestre          158763                  2740321   \n",
       "12  2019  1er trimestre          159849                  2696176   \n",
       "\n",
       "   Ingreso medio per cápita (en pesos)  \n",
       "4                                13130  \n",
       "5                                13104  \n",
       "6                                14526  \n",
       "7                                14988  \n",
       "8                                14778  \n",
       "9                                15639  \n",
       "10                               15855  \n",
       "11                               17260  \n",
       "12                               16867  "
      ]
     },
     "execution_count": 10,
     "metadata": {},
     "output_type": "execute_result"
    }
   ],
   "source": [
    "df_poblacion_filtrado.head(9)"
   ]
  },
  {
   "cell_type": "code",
   "execution_count": 11,
   "id": "608f75e3-8362-4758-a51a-ffd7f74c1ce7",
   "metadata": {},
   "outputs": [],
   "source": [
    "# Las funciones de pandas utilizadas van a ser cambiadas en un futuro, para evitar que salten las ventanas de advertencia se añade esta linea\n",
    "pd.set_option('future.no_silent_downcasting', True)"
   ]
  },
  {
   "cell_type": "code",
   "execution_count": 12,
   "id": "401ba468-b8cb-46c4-9f05-aefd83e30f53",
   "metadata": {},
   "outputs": [],
   "source": [
    "#Se completan los valores nulos\n",
    "df_poblacion_filtrado.loc[:, \"Año\"] = df_poblacion_filtrado[\"Año\"].ffill()"
   ]
  },
  {
   "cell_type": "code",
   "execution_count": 13,
   "id": "6cf3d95e-61fb-48ab-96f5-03186b224386",
   "metadata": {},
   "outputs": [
    {
     "data": {
      "text/html": [
       "<div>\n",
       "<style scoped>\n",
       "    .dataframe tbody tr th:only-of-type {\n",
       "        vertical-align: middle;\n",
       "    }\n",
       "\n",
       "    .dataframe tbody tr th {\n",
       "        vertical-align: top;\n",
       "    }\n",
       "\n",
       "    .dataframe thead th {\n",
       "        text-align: right;\n",
       "    }\n",
       "</style>\n",
       "<table border=\"1\" class=\"dataframe\">\n",
       "  <thead>\n",
       "    <tr style=\"text-align: right;\">\n",
       "      <th></th>\n",
       "      <th>Año</th>\n",
       "      <th>Trimestre</th>\n",
       "      <th>Población total</th>\n",
       "      <th>Ingreso total (en miles)</th>\n",
       "      <th>Ingreso medio per cápita (en pesos)</th>\n",
       "    </tr>\n",
       "  </thead>\n",
       "  <tbody>\n",
       "    <tr>\n",
       "      <th>4</th>\n",
       "      <td>2017</td>\n",
       "      <td>1er trimestre</td>\n",
       "      <td>151966</td>\n",
       "      <td>1995313</td>\n",
       "      <td>13130</td>\n",
       "    </tr>\n",
       "    <tr>\n",
       "      <th>5</th>\n",
       "      <td>2017</td>\n",
       "      <td>2do trimestre</td>\n",
       "      <td>152940</td>\n",
       "      <td>2004062</td>\n",
       "      <td>13104</td>\n",
       "    </tr>\n",
       "    <tr>\n",
       "      <th>6</th>\n",
       "      <td>2017</td>\n",
       "      <td>3er trimestre</td>\n",
       "      <td>154078</td>\n",
       "      <td>2238184</td>\n",
       "      <td>14526</td>\n",
       "    </tr>\n",
       "    <tr>\n",
       "      <th>7</th>\n",
       "      <td>2017</td>\n",
       "      <td>4to trimestre</td>\n",
       "      <td>154882</td>\n",
       "      <td>2321392</td>\n",
       "      <td>14988</td>\n",
       "    </tr>\n",
       "    <tr>\n",
       "      <th>8</th>\n",
       "      <td>2018</td>\n",
       "      <td>1er trimestre</td>\n",
       "      <td>155872</td>\n",
       "      <td>2303532</td>\n",
       "      <td>14778</td>\n",
       "    </tr>\n",
       "  </tbody>\n",
       "</table>\n",
       "</div>"
      ],
      "text/plain": [
       "    Año      Trimestre Población total Ingreso total (en miles)  \\\n",
       "4  2017  1er trimestre          151966                  1995313   \n",
       "5  2017  2do trimestre          152940                  2004062   \n",
       "6  2017  3er trimestre          154078                  2238184   \n",
       "7  2017  4to trimestre          154882                  2321392   \n",
       "8  2018  1er trimestre          155872                  2303532   \n",
       "\n",
       "  Ingreso medio per cápita (en pesos)  \n",
       "4                               13130  \n",
       "5                               13104  \n",
       "6                               14526  \n",
       "7                               14988  \n",
       "8                               14778  "
      ]
     },
     "execution_count": 13,
     "metadata": {},
     "output_type": "execute_result"
    }
   ],
   "source": [
    "df_poblacion_filtrado.head(5)"
   ]
  },
  {
   "cell_type": "markdown",
   "id": "33b7d6e9-b68e-49e3-8ed8-8f57b3f5b3f8",
   "metadata": {},
   "source": [
    "### Dataset:\n",
    "- Origen: IPIEC\n",
    "- Fuente: https://ipiec.tierradelfuego.gob.ar/estadisticas-economicas-2/\n",
    "\n",
    "Este dataset indica la recaudacion impositiva mensual en pesos por concepto desde el año 2000 hasta 2024 de la provincia de Tierra del Fuego. La informacion esta dividida en dos hojas de excel, por ende es necesario importar y procesar dos veces el mismo dataset."
   ]
  },
  {
   "cell_type": "code",
   "execution_count": 14,
   "id": "e7d3b800-5901-4c90-9433-db8e90d52e58",
   "metadata": {},
   "outputs": [],
   "source": [
    "ruta_excel = path + r\"data\\raw\\13_2_01_Recaudacion_impositiva_mensual_por_concepto.xlsx\"\n",
    "# Se carga la hoja \"2000-2019\" con los encabezados en la fila 4\n",
    "df_impuestos = pd.read_excel(ruta_excel, sheet_name=\"2000-2019\", header=3)"
   ]
  },
  {
   "cell_type": "code",
   "execution_count": 15,
   "id": "6001cdfb-8e47-473f-953b-2c881308b4ab",
   "metadata": {},
   "outputs": [],
   "source": [
    "df_impuestos_filtrado = df_impuestos.iloc[206:242] #Seleccion de la parte de interes de la hoja de excel"
   ]
  },
  {
   "cell_type": "code",
   "execution_count": 16,
   "id": "63122543-4d4c-42fc-b17e-eed7e7eec4ef",
   "metadata": {},
   "outputs": [],
   "source": [
    "df_impuestos_filtrado.to_csv(\"impuestos_filtrados.csv\", index=False, encoding=\"utf-8\")"
   ]
  },
  {
   "cell_type": "code",
   "execution_count": 17,
   "id": "b91c25c8-12f5-4363-9d3c-2cba8bf9063b",
   "metadata": {},
   "outputs": [],
   "source": [
    "columnas_a_incluir = [\"Total\", \"Convenio multilateral\", \"Otros ingresos\", \"Impuesto ingresos brutos\", \"Impuesto de sellos\", \"Impuesto inmobiliario\"] \n",
    "df_impuestos_1 = pd.read_csv(\"impuestos_filtrados.csv\", encoding=\"utf-8\", dtype=str)"
   ]
  },
  {
   "cell_type": "code",
   "execution_count": 18,
   "id": "ca27c644-d9f6-4dd1-94d6-27fe075b561c",
   "metadata": {},
   "outputs": [],
   "source": [
    "for columna in columnas_a_incluir:\n",
    "    df_impuestos_1[columna] = df_impuestos_1[columna].replace(\"-\", \"0\")  # Sustituir \"-\" por 0\n",
    "    df_impuestos_1[columna] = df_impuestos_1[columna].str.replace(\",\", \".\", regex=False)  # Ajustar decimales\n",
    "    df_impuestos_1[columna] = pd.to_numeric(df_impuestos_1[columna], errors=\"coerce\")  # Convertir a número flotante\n",
    "\n",
    "for columna in columnas_a_incluir:\n",
    "    df_impuestos_1[columna] = df_impuestos_1[columna].apply(lambda x: \"{:,.0f}\".format(x) if isinstance(x, (int, float)) else str(x))\n",
    "\n",
    "for columna in df_impuestos_1.columns:\n",
    "    df_impuestos_1[columna] = df_impuestos_1[columna].apply(lambda x: '\\n'.join([x[i:i+150] for i in range(0, len(x), 150)]) if isinstance(x, str) else x)\n"
   ]
  },
  {
   "cell_type": "code",
   "execution_count": 19,
   "id": "72ca4753-f198-4c1f-8f36-ce200dcd3c74",
   "metadata": {},
   "outputs": [
    {
     "data": {
      "text/html": [
       "<div>\n",
       "<style scoped>\n",
       "    .dataframe tbody tr th:only-of-type {\n",
       "        vertical-align: middle;\n",
       "    }\n",
       "\n",
       "    .dataframe tbody tr th {\n",
       "        vertical-align: top;\n",
       "    }\n",
       "\n",
       "    .dataframe thead th {\n",
       "        text-align: right;\n",
       "    }\n",
       "</style>\n",
       "<table border=\"1\" class=\"dataframe\">\n",
       "  <thead>\n",
       "    <tr style=\"text-align: right;\">\n",
       "      <th></th>\n",
       "      <th>Mes</th>\n",
       "      <th>Total</th>\n",
       "      <th>Impuesto ingresos brutos</th>\n",
       "      <th>Convenio multilateral</th>\n",
       "      <th>Impuesto de sellos</th>\n",
       "      <th>Impuesto inmobiliario</th>\n",
       "      <th>Otros ingresos</th>\n",
       "    </tr>\n",
       "  </thead>\n",
       "  <tbody>\n",
       "    <tr>\n",
       "      <th>0</th>\n",
       "      <td>2017-01-01 00:00:00</td>\n",
       "      <td>519,283,888</td>\n",
       "      <td>71,123,083</td>\n",
       "      <td>158,601,571</td>\n",
       "      <td>21,718,644</td>\n",
       "      <td>22,115</td>\n",
       "      <td>267,818,476</td>\n",
       "    </tr>\n",
       "    <tr>\n",
       "      <th>1</th>\n",
       "      <td>2017-02-01 00:00:00</td>\n",
       "      <td>467,864,648</td>\n",
       "      <td>57,416,525</td>\n",
       "      <td>144,090,087</td>\n",
       "      <td>17,667,071</td>\n",
       "      <td>223,034</td>\n",
       "      <td>248,467,932</td>\n",
       "    </tr>\n",
       "    <tr>\n",
       "      <th>2</th>\n",
       "      <td>2017-03-01 00:00:00</td>\n",
       "      <td>482,706,552</td>\n",
       "      <td>69,333,643</td>\n",
       "      <td>145,077,379</td>\n",
       "      <td>17,222,376</td>\n",
       "      <td>149,048</td>\n",
       "      <td>250,924,106</td>\n",
       "    </tr>\n",
       "    <tr>\n",
       "      <th>3</th>\n",
       "      <td>2017-04-01 00:00:00</td>\n",
       "      <td>596,500,020</td>\n",
       "      <td>63,108,045</td>\n",
       "      <td>235,841,071</td>\n",
       "      <td>20,348,071</td>\n",
       "      <td>25,087</td>\n",
       "      <td>277,177,746</td>\n",
       "    </tr>\n",
       "  </tbody>\n",
       "</table>\n",
       "</div>"
      ],
      "text/plain": [
       "                   Mes        Total Impuesto ingresos brutos  \\\n",
       "0  2017-01-01 00:00:00  519,283,888               71,123,083   \n",
       "1  2017-02-01 00:00:00  467,864,648               57,416,525   \n",
       "2  2017-03-01 00:00:00  482,706,552               69,333,643   \n",
       "3  2017-04-01 00:00:00  596,500,020               63,108,045   \n",
       "\n",
       "  Convenio multilateral Impuesto de sellos Impuesto inmobiliario  \\\n",
       "0           158,601,571         21,718,644                22,115   \n",
       "1           144,090,087         17,667,071               223,034   \n",
       "2           145,077,379         17,222,376               149,048   \n",
       "3           235,841,071         20,348,071                25,087   \n",
       "\n",
       "  Otros ingresos  \n",
       "0    267,818,476  \n",
       "1    248,467,932  \n",
       "2    250,924,106  \n",
       "3    277,177,746  "
      ]
     },
     "execution_count": 19,
     "metadata": {},
     "output_type": "execute_result"
    }
   ],
   "source": [
    "df_impuestos_1.head(4)"
   ]
  },
  {
   "cell_type": "code",
   "execution_count": 20,
   "id": "79fc96ad-eeb7-466e-ba70-0c2b0a51d3b3",
   "metadata": {},
   "outputs": [],
   "source": [
    "# Importacion de la hoja 2 del mismo dataset\n",
    "ruta_excel = path + r\"data\\raw\\13_2_01_Recaudacion_impositiva_mensual_por_concepto.xlsx\"\n",
    "# Se carga la hoja \"2020-2024\" con los encabezados en la fila 5\n",
    "df_impuestos = pd.read_excel(ruta_excel, sheet_name=\"2020-2024\", header=4)"
   ]
  },
  {
   "cell_type": "code",
   "execution_count": 21,
   "id": "e018a26e-8d0c-464f-9be3-51a8a3becf4e",
   "metadata": {},
   "outputs": [],
   "source": [
    "df_impuestos_filtrado = df_impuestos.iloc[2:50] #Seleccion de la parte de interes de la hoja de excel"
   ]
  },
  {
   "cell_type": "code",
   "execution_count": 22,
   "id": "c1f291c6-46b1-4d59-a015-7eb8fe3743ab",
   "metadata": {},
   "outputs": [
    {
     "data": {
      "text/plain": [
       "Index(['Unnamed: 0', 'Unnamed: 1', 'Total Ingresos Tributarios',\n",
       "       'Impuesto ingresos brutos', 'Convenio multilateral',\n",
       "       'Impuesto de sellos', 'Impuesto inmobiliario rural', 'Unnamed: 7',\n",
       "       'Unnamed: 8', 'Unnamed: 9', 'Unnamed: 10'],\n",
       "      dtype='object')"
      ]
     },
     "execution_count": 22,
     "metadata": {},
     "output_type": "execute_result"
    }
   ],
   "source": [
    "df_impuestos_filtrado.columns"
   ]
  },
  {
   "cell_type": "code",
   "execution_count": 23,
   "id": "df87c7f0-c5da-408b-84e8-44517c746704",
   "metadata": {},
   "outputs": [],
   "source": [
    "df_impuestos_filtrado = df_impuestos_filtrado.copy()  # Crear una copia segura\n",
    "# Renombrar columnas mal cargadas\n",
    "df_impuestos_filtrado.rename(columns={\"Unnamed: 0\": \"Mes\", \"Unnamed: 1\": \"Total\", \"Unnamed: 10\": \"Otros ingresos\", \"Impuesto inmobiliario rural\": \"Impuesto inmobiliario\"}, inplace=True)"
   ]
  },
  {
   "cell_type": "code",
   "execution_count": 24,
   "id": "609a0e9a-dcc8-4b40-b8ff-4c575a9ad013",
   "metadata": {},
   "outputs": [
    {
     "data": {
      "text/html": [
       "<div>\n",
       "<style scoped>\n",
       "    .dataframe tbody tr th:only-of-type {\n",
       "        vertical-align: middle;\n",
       "    }\n",
       "\n",
       "    .dataframe tbody tr th {\n",
       "        vertical-align: top;\n",
       "    }\n",
       "\n",
       "    .dataframe thead th {\n",
       "        text-align: right;\n",
       "    }\n",
       "</style>\n",
       "<table border=\"1\" class=\"dataframe\">\n",
       "  <thead>\n",
       "    <tr style=\"text-align: right;\">\n",
       "      <th></th>\n",
       "      <th>Mes</th>\n",
       "      <th>Total</th>\n",
       "      <th>Total Ingresos Tributarios</th>\n",
       "      <th>Impuesto ingresos brutos</th>\n",
       "      <th>Convenio multilateral</th>\n",
       "      <th>Impuesto de sellos</th>\n",
       "      <th>Impuesto inmobiliario</th>\n",
       "      <th>Unnamed: 7</th>\n",
       "      <th>Unnamed: 8</th>\n",
       "      <th>Unnamed: 9</th>\n",
       "      <th>Otros ingresos</th>\n",
       "    </tr>\n",
       "  </thead>\n",
       "  <tbody>\n",
       "    <tr>\n",
       "      <th>2</th>\n",
       "      <td>2020-01-20 00:00:00</td>\n",
       "      <td>1251929512.06</td>\n",
       "      <td>5.397230e+08</td>\n",
       "      <td>1.358470e+08</td>\n",
       "      <td>3.695620e+08</td>\n",
       "      <td>34173025.61</td>\n",
       "      <td>140972.62</td>\n",
       "      <td>2.649736e+08</td>\n",
       "      <td>1.193620e+08</td>\n",
       "      <td>1.991952e+08</td>\n",
       "      <td>1.286757e+08</td>\n",
       "    </tr>\n",
       "  </tbody>\n",
       "</table>\n",
       "</div>"
      ],
      "text/plain": [
       "                   Mes          Total  Total Ingresos Tributarios  \\\n",
       "2  2020-01-20 00:00:00  1251929512.06                5.397230e+08   \n",
       "\n",
       "   Impuesto ingresos brutos  Convenio multilateral  Impuesto de sellos  \\\n",
       "2              1.358470e+08           3.695620e+08         34173025.61   \n",
       "\n",
       "  Impuesto inmobiliario    Unnamed: 7    Unnamed: 8    Unnamed: 9  \\\n",
       "2             140972.62  2.649736e+08  1.193620e+08  1.991952e+08   \n",
       "\n",
       "   Otros ingresos  \n",
       "2    1.286757e+08  "
      ]
     },
     "execution_count": 24,
     "metadata": {},
     "output_type": "execute_result"
    }
   ],
   "source": [
    "df_impuestos_filtrado.head(1)"
   ]
  },
  {
   "cell_type": "code",
   "execution_count": 25,
   "id": "439d1d83-03dc-45b5-913c-ac6ddc855e44",
   "metadata": {},
   "outputs": [],
   "source": [
    "columnas_a_eliminar = [\"Unnamed: 7\", \"Unnamed: 8\", \"Unnamed: 9\", \"Total Ingresos Tributarios\"]\n",
    "df_impuestos_filtrado.drop(columns=columnas_a_eliminar, inplace=True)"
   ]
  },
  {
   "cell_type": "code",
   "execution_count": 26,
   "id": "711da722-654e-4ab8-8df5-8029b4ea8513",
   "metadata": {},
   "outputs": [
    {
     "data": {
      "text/plain": [
       "Index(['Mes', 'Total', 'Impuesto ingresos brutos', 'Convenio multilateral',\n",
       "       'Impuesto de sellos', 'Impuesto inmobiliario', 'Otros ingresos'],\n",
       "      dtype='object')"
      ]
     },
     "execution_count": 26,
     "metadata": {},
     "output_type": "execute_result"
    }
   ],
   "source": [
    "df_impuestos_filtrado.columns"
   ]
  },
  {
   "cell_type": "code",
   "execution_count": 27,
   "id": "175ab837-be0c-467b-bfff-f8e2bcab2b44",
   "metadata": {},
   "outputs": [],
   "source": [
    "df_impuestos_filtrado.to_csv(\"impuestos_filtrados_2.csv\", index=False, encoding=\"utf-8\")"
   ]
  },
  {
   "cell_type": "code",
   "execution_count": 28,
   "id": "8ef60f40-e133-4502-a3d0-31f7490905ac",
   "metadata": {},
   "outputs": [],
   "source": [
    "columnas_a_incluir = [\"Total\", \"Convenio multilateral\", \"Otros ingresos\", \"Impuesto ingresos brutos\", \"Impuesto de sellos\", \"Impuesto inmobiliario\"] \n",
    "df_impuestos_2 = pd.read_csv(\"impuestos_filtrados_2.csv\", encoding=\"utf-8\", dtype=str)"
   ]
  },
  {
   "cell_type": "code",
   "execution_count": 29,
   "id": "6ec97771-bdfb-4a01-877a-da707d07a4fe",
   "metadata": {},
   "outputs": [
    {
     "data": {
      "text/html": [
       "<div>\n",
       "<style scoped>\n",
       "    .dataframe tbody tr th:only-of-type {\n",
       "        vertical-align: middle;\n",
       "    }\n",
       "\n",
       "    .dataframe tbody tr th {\n",
       "        vertical-align: top;\n",
       "    }\n",
       "\n",
       "    .dataframe thead th {\n",
       "        text-align: right;\n",
       "    }\n",
       "</style>\n",
       "<table border=\"1\" class=\"dataframe\">\n",
       "  <thead>\n",
       "    <tr style=\"text-align: right;\">\n",
       "      <th></th>\n",
       "      <th>Mes</th>\n",
       "      <th>Total</th>\n",
       "      <th>Impuesto ingresos brutos</th>\n",
       "      <th>Convenio multilateral</th>\n",
       "      <th>Impuesto de sellos</th>\n",
       "      <th>Impuesto inmobiliario</th>\n",
       "      <th>Otros ingresos</th>\n",
       "    </tr>\n",
       "  </thead>\n",
       "  <tbody>\n",
       "    <tr>\n",
       "      <th>0</th>\n",
       "      <td>2020-01-20 00:00:00</td>\n",
       "      <td>1251929512.06</td>\n",
       "      <td>135847036.74</td>\n",
       "      <td>369561991.56</td>\n",
       "      <td>34173025.61</td>\n",
       "      <td>140972.62</td>\n",
       "      <td>128675709.74</td>\n",
       "    </tr>\n",
       "    <tr>\n",
       "      <th>1</th>\n",
       "      <td>2020-02-01 00:00:00</td>\n",
       "      <td>1142552416.65</td>\n",
       "      <td>91342422.79</td>\n",
       "      <td>431307808.97</td>\n",
       "      <td>33043812.67</td>\n",
       "      <td>17101.14</td>\n",
       "      <td>93701043.0</td>\n",
       "    </tr>\n",
       "    <tr>\n",
       "      <th>2</th>\n",
       "      <td>2020-03-01 00:00:00</td>\n",
       "      <td>1112673664.82</td>\n",
       "      <td>113805176.7</td>\n",
       "      <td>357083390.87</td>\n",
       "      <td>38569412.22</td>\n",
       "      <td>22010.96</td>\n",
       "      <td>123776208.56</td>\n",
       "    </tr>\n",
       "    <tr>\n",
       "      <th>3</th>\n",
       "      <td>2020-04-01 00:00:00</td>\n",
       "      <td>1049026764.5</td>\n",
       "      <td>89959877.33999999</td>\n",
       "      <td>316086794.28</td>\n",
       "      <td>19628833.45</td>\n",
       "      <td>-</td>\n",
       "      <td>89808421.01</td>\n",
       "    </tr>\n",
       "    <tr>\n",
       "      <th>4</th>\n",
       "      <td>2020-05-01 00:00:00</td>\n",
       "      <td>900337204.09</td>\n",
       "      <td>114837220.9</td>\n",
       "      <td>269308729.62</td>\n",
       "      <td>26818321.73</td>\n",
       "      <td>1656.12</td>\n",
       "      <td>46524900.02</td>\n",
       "    </tr>\n",
       "  </tbody>\n",
       "</table>\n",
       "</div>"
      ],
      "text/plain": [
       "                   Mes          Total Impuesto ingresos brutos  \\\n",
       "0  2020-01-20 00:00:00  1251929512.06             135847036.74   \n",
       "1  2020-02-01 00:00:00  1142552416.65              91342422.79   \n",
       "2  2020-03-01 00:00:00  1112673664.82              113805176.7   \n",
       "3  2020-04-01 00:00:00   1049026764.5        89959877.33999999   \n",
       "4  2020-05-01 00:00:00   900337204.09              114837220.9   \n",
       "\n",
       "  Convenio multilateral Impuesto de sellos Impuesto inmobiliario  \\\n",
       "0          369561991.56        34173025.61             140972.62   \n",
       "1          431307808.97        33043812.67              17101.14   \n",
       "2          357083390.87        38569412.22              22010.96   \n",
       "3          316086794.28        19628833.45                     -   \n",
       "4          269308729.62        26818321.73               1656.12   \n",
       "\n",
       "  Otros ingresos  \n",
       "0   128675709.74  \n",
       "1     93701043.0  \n",
       "2   123776208.56  \n",
       "3    89808421.01  \n",
       "4    46524900.02  "
      ]
     },
     "execution_count": 29,
     "metadata": {},
     "output_type": "execute_result"
    }
   ],
   "source": [
    "df_impuestos_2.head()"
   ]
  },
  {
   "cell_type": "code",
   "execution_count": 30,
   "id": "8c6721fb-ca34-4ced-a650-62298652cba1",
   "metadata": {},
   "outputs": [],
   "source": [
    "for columna in columnas_a_incluir:\n",
    "    df_impuestos_2[columna] = df_impuestos_2[columna].replace(\"-\", \"0\")  # Sustituir \"-\" por 0\n",
    "    df_impuestos_2[columna] = df_impuestos_2[columna].str.replace(\",\", \".\", regex=False)  # Ajustar decimales\n",
    "    df_impuestos_2[columna] = pd.to_numeric(df_impuestos_2[columna], errors=\"coerce\")  # Convertir a número flotante\n",
    "\n",
    "for columna in columnas_a_incluir:\n",
    "    df_impuestos_2[columna] = df_impuestos_2[columna].apply(lambda x: \"{:,.0f}\".format(x) if isinstance(x, (int, float)) else str(x))\n",
    "\n",
    "for columna in df_impuestos_2.columns:\n",
    "    df_impuestos_2[columna] = df_impuestos_2[columna].apply(lambda x: '\\n'.join([x[i:i+150] for i in range(0, len(x), 150)]) if isinstance(x, str) else x)\n"
   ]
  },
  {
   "cell_type": "code",
   "execution_count": 32,
   "id": "b61b7e49-e755-4303-943a-6225bac13f2a",
   "metadata": {},
   "outputs": [
    {
     "data": {
      "text/html": [
       "<div>\n",
       "<style scoped>\n",
       "    .dataframe tbody tr th:only-of-type {\n",
       "        vertical-align: middle;\n",
       "    }\n",
       "\n",
       "    .dataframe tbody tr th {\n",
       "        vertical-align: top;\n",
       "    }\n",
       "\n",
       "    .dataframe thead th {\n",
       "        text-align: right;\n",
       "    }\n",
       "</style>\n",
       "<table border=\"1\" class=\"dataframe\">\n",
       "  <thead>\n",
       "    <tr style=\"text-align: right;\">\n",
       "      <th></th>\n",
       "      <th>Mes</th>\n",
       "      <th>Total</th>\n",
       "      <th>Impuesto ingresos brutos</th>\n",
       "      <th>Convenio multilateral</th>\n",
       "      <th>Impuesto de sellos</th>\n",
       "      <th>Impuesto inmobiliario</th>\n",
       "      <th>Otros ingresos</th>\n",
       "    </tr>\n",
       "  </thead>\n",
       "  <tbody>\n",
       "    <tr>\n",
       "      <th>0</th>\n",
       "      <td>2020-01-20 00:00:00</td>\n",
       "      <td>1,251,929,512</td>\n",
       "      <td>135,847,037</td>\n",
       "      <td>369,561,992</td>\n",
       "      <td>34,173,026</td>\n",
       "      <td>140,973</td>\n",
       "      <td>128,675,710</td>\n",
       "    </tr>\n",
       "  </tbody>\n",
       "</table>\n",
       "</div>"
      ],
      "text/plain": [
       "                   Mes          Total Impuesto ingresos brutos  \\\n",
       "0  2020-01-20 00:00:00  1,251,929,512              135,847,037   \n",
       "\n",
       "  Convenio multilateral Impuesto de sellos Impuesto inmobiliario  \\\n",
       "0           369,561,992         34,173,026               140,973   \n",
       "\n",
       "  Otros ingresos  \n",
       "0    128,675,710  "
      ]
     },
     "execution_count": 32,
     "metadata": {},
     "output_type": "execute_result"
    }
   ],
   "source": [
    "df_impuestos_2.head(1)"
   ]
  },
  {
   "cell_type": "markdown",
   "id": "ad59bb70-25ac-4498-b6af-d585e39ba94e",
   "metadata": {},
   "source": [
    "### Dataset: IPC_resultados_-por_divisiones_de_la_canasta_categorias_bienes_y_servicios\n",
    "- Origen: IPIEC\n",
    "- Fuente: https://ipiec.tierradelfuego.gob.ar/estadisticas-sociales-y-demograficas/\n",
    "\n",
    "El índice de precios al consumidor (IPC) es un indicador que mide la evolución promedio de los precios de un conjunto de bienes y servicios representativos del gasto de consumo de los hogares residentes en un área determinada, que constituyen la canasta IPC. \n",
    "\n",
    "Los resultados se obtienen de 39 aglomerados urbanos y se presentan desagregados para 6 regiones estadísticas: Gran Buenos Aires, Cuyo, Noreste, Noroeste, Pampeana y Patagonia.Desde diciembre del año 2016 hasta abril del años 2025 de la region patagonica."
   ]
  },
  {
   "cell_type": "code",
   "execution_count": 66,
   "id": "57a9bd93-b1e8-4dd3-ad96-e600c2f28755",
   "metadata": {},
   "outputs": [],
   "source": [
    "ruta_excel = path + r\"data/raw/17_1_01_IPC_resultados_-por_divisiones_de_la_canasta_categorias_bienes_y_servicios._Patagonia.xlsx\"\n",
    "\n",
    "# Se carga la hoja, los encabezados estan en la fila 4\n",
    "df_ipc = pd.read_excel(ruta_excel, header=None)"
   ]
  },
  {
   "cell_type": "code",
   "execution_count": 67,
   "id": "86db3e9c-9ae2-4d9e-8410-f9dd7e964299",
   "metadata": {},
   "outputs": [],
   "source": [
    "df_ipc = df_ipc.iloc[3:19]  # Seleccionar filas A4 hasta A19 (ajustado para índice 0)"
   ]
  },
  {
   "cell_type": "code",
   "execution_count": 70,
   "id": "cad38df3-613a-4cae-ab8a-275e67b785e3",
   "metadata": {},
   "outputs": [
    {
     "data": {
      "text/html": [
       "<div>\n",
       "<style scoped>\n",
       "    .dataframe tbody tr th:only-of-type {\n",
       "        vertical-align: middle;\n",
       "    }\n",
       "\n",
       "    .dataframe tbody tr th {\n",
       "        vertical-align: top;\n",
       "    }\n",
       "\n",
       "    .dataframe thead th {\n",
       "        text-align: right;\n",
       "    }\n",
       "</style>\n",
       "<table border=\"1\" class=\"dataframe\">\n",
       "  <thead>\n",
       "    <tr style=\"text-align: right;\">\n",
       "      <th></th>\n",
       "      <th>0</th>\n",
       "      <th>1</th>\n",
       "      <th>2</th>\n",
       "      <th>3</th>\n",
       "      <th>4</th>\n",
       "      <th>5</th>\n",
       "      <th>6</th>\n",
       "      <th>7</th>\n",
       "      <th>8</th>\n",
       "      <th>9</th>\n",
       "      <th>...</th>\n",
       "      <th>92</th>\n",
       "      <th>93</th>\n",
       "      <th>94</th>\n",
       "      <th>95</th>\n",
       "      <th>96</th>\n",
       "      <th>97</th>\n",
       "      <th>98</th>\n",
       "      <th>99</th>\n",
       "      <th>100</th>\n",
       "      <th>101</th>\n",
       "    </tr>\n",
       "  </thead>\n",
       "  <tbody>\n",
       "    <tr>\n",
       "      <th>3</th>\n",
       "      <td>Nivel general y divisiones COICOP</td>\n",
       "      <td>2016-12-01 00:00:00</td>\n",
       "      <td>2017-01-01 00:00:00</td>\n",
       "      <td>2017-02-01 00:00:00</td>\n",
       "      <td>2017-03-01 00:00:00</td>\n",
       "      <td>2017-04-01 00:00:00</td>\n",
       "      <td>2017-05-01 00:00:00</td>\n",
       "      <td>2017-06-01 00:00:00</td>\n",
       "      <td>2017-07-01 00:00:00</td>\n",
       "      <td>2017-08-01 00:00:00</td>\n",
       "      <td>...</td>\n",
       "      <td>2024-07-15 00:00:00</td>\n",
       "      <td>2024-08-12 00:00:00</td>\n",
       "      <td>2024-09-09 00:00:00</td>\n",
       "      <td>2024-10-07 00:00:00</td>\n",
       "      <td>2024-11-04 00:00:00</td>\n",
       "      <td>2024-12-02 00:00:00</td>\n",
       "      <td>2025-01-01 00:00:00</td>\n",
       "      <td>2025-02-09 00:00:00</td>\n",
       "      <td>2025-03-01 00:00:00</td>\n",
       "      <td>2025-04-01 00:00:00</td>\n",
       "    </tr>\n",
       "    <tr>\n",
       "      <th>4</th>\n",
       "      <td>NaN</td>\n",
       "      <td>NaN</td>\n",
       "      <td>NaN</td>\n",
       "      <td>NaN</td>\n",
       "      <td>NaN</td>\n",
       "      <td>NaN</td>\n",
       "      <td>NaN</td>\n",
       "      <td>NaN</td>\n",
       "      <td>NaN</td>\n",
       "      <td>NaN</td>\n",
       "      <td>...</td>\n",
       "      <td>NaN</td>\n",
       "      <td>NaN</td>\n",
       "      <td>NaN</td>\n",
       "      <td>NaN</td>\n",
       "      <td>NaN</td>\n",
       "      <td>NaN</td>\n",
       "      <td>NaN</td>\n",
       "      <td>NaN</td>\n",
       "      <td>NaN</td>\n",
       "      <td>NaN</td>\n",
       "    </tr>\n",
       "    <tr>\n",
       "      <th>5</th>\n",
       "      <td>NaN</td>\n",
       "      <td>NaN</td>\n",
       "      <td>NaN</td>\n",
       "      <td>NaN</td>\n",
       "      <td>NaN</td>\n",
       "      <td>NaN</td>\n",
       "      <td>NaN</td>\n",
       "      <td>NaN</td>\n",
       "      <td>NaN</td>\n",
       "      <td>NaN</td>\n",
       "      <td>...</td>\n",
       "      <td>NaN</td>\n",
       "      <td>NaN</td>\n",
       "      <td>NaN</td>\n",
       "      <td>NaN</td>\n",
       "      <td>NaN</td>\n",
       "      <td>NaN</td>\n",
       "      <td>NaN</td>\n",
       "      <td>NaN</td>\n",
       "      <td>NaN</td>\n",
       "      <td>NaN</td>\n",
       "    </tr>\n",
       "    <tr>\n",
       "      <th>6</th>\n",
       "      <td>Nivel general</td>\n",
       "      <td>100</td>\n",
       "      <td>102.5593</td>\n",
       "      <td>104.2827</td>\n",
       "      <td>106.5167</td>\n",
       "      <td>108.6517</td>\n",
       "      <td>110.4897</td>\n",
       "      <td>111.7051</td>\n",
       "      <td>113.3785</td>\n",
       "      <td>115.3036</td>\n",
       "      <td>...</td>\n",
       "      <td>6497.6</td>\n",
       "      <td>6797.2</td>\n",
       "      <td>7050.5</td>\n",
       "      <td>7278.5</td>\n",
       "      <td>7517.9</td>\n",
       "      <td>7717.1</td>\n",
       "      <td>7910.5</td>\n",
       "      <td>8164.3</td>\n",
       "      <td>8434.2</td>\n",
       "      <td>8659.4</td>\n",
       "    </tr>\n",
       "    <tr>\n",
       "      <th>7</th>\n",
       "      <td>Alimentos y bebidas no alcohólicas</td>\n",
       "      <td>100</td>\n",
       "      <td>100.9464</td>\n",
       "      <td>102.2499</td>\n",
       "      <td>103.9781</td>\n",
       "      <td>105.4772</td>\n",
       "      <td>107.5956</td>\n",
       "      <td>107.9237</td>\n",
       "      <td>108.7052</td>\n",
       "      <td>110.5112</td>\n",
       "      <td>...</td>\n",
       "      <td>7102.8</td>\n",
       "      <td>7446.6</td>\n",
       "      <td>7676.3</td>\n",
       "      <td>7804.1</td>\n",
       "      <td>8015</td>\n",
       "      <td>8169.6</td>\n",
       "      <td>8351.6</td>\n",
       "      <td>8718.4</td>\n",
       "      <td>8980</td>\n",
       "      <td>9258.3</td>\n",
       "    </tr>\n",
       "  </tbody>\n",
       "</table>\n",
       "<p>5 rows × 102 columns</p>\n",
       "</div>"
      ],
      "text/plain": [
       "                                  0                    1    \\\n",
       "3   Nivel general y divisiones COICOP  2016-12-01 00:00:00   \n",
       "4                                 NaN                  NaN   \n",
       "5                                 NaN                  NaN   \n",
       "6                       Nivel general                  100   \n",
       "7  Alimentos y bebidas no alcohólicas                  100   \n",
       "\n",
       "                   2                    3                    4    \\\n",
       "3  2017-01-01 00:00:00  2017-02-01 00:00:00  2017-03-01 00:00:00   \n",
       "4                  NaN                  NaN                  NaN   \n",
       "5                  NaN                  NaN                  NaN   \n",
       "6             102.5593             104.2827             106.5167   \n",
       "7             100.9464             102.2499             103.9781   \n",
       "\n",
       "                   5                    6                    7    \\\n",
       "3  2017-04-01 00:00:00  2017-05-01 00:00:00  2017-06-01 00:00:00   \n",
       "4                  NaN                  NaN                  NaN   \n",
       "5                  NaN                  NaN                  NaN   \n",
       "6             108.6517             110.4897             111.7051   \n",
       "7             105.4772             107.5956             107.9237   \n",
       "\n",
       "                   8                    9    ...                  92   \\\n",
       "3  2017-07-01 00:00:00  2017-08-01 00:00:00  ...  2024-07-15 00:00:00   \n",
       "4                  NaN                  NaN  ...                  NaN   \n",
       "5                  NaN                  NaN  ...                  NaN   \n",
       "6             113.3785             115.3036  ...               6497.6   \n",
       "7             108.7052             110.5112  ...               7102.8   \n",
       "\n",
       "                   93                   94                   95   \\\n",
       "3  2024-08-12 00:00:00  2024-09-09 00:00:00  2024-10-07 00:00:00   \n",
       "4                  NaN                  NaN                  NaN   \n",
       "5                  NaN                  NaN                  NaN   \n",
       "6               6797.2               7050.5               7278.5   \n",
       "7               7446.6               7676.3               7804.1   \n",
       "\n",
       "                   96                   97                   98   \\\n",
       "3  2024-11-04 00:00:00  2024-12-02 00:00:00  2025-01-01 00:00:00   \n",
       "4                  NaN                  NaN                  NaN   \n",
       "5                  NaN                  NaN                  NaN   \n",
       "6               7517.9               7717.1               7910.5   \n",
       "7                 8015               8169.6               8351.6   \n",
       "\n",
       "                   99                   100                  101  \n",
       "3  2025-02-09 00:00:00  2025-03-01 00:00:00  2025-04-01 00:00:00  \n",
       "4                  NaN                  NaN                  NaN  \n",
       "5                  NaN                  NaN                  NaN  \n",
       "6               8164.3               8434.2               8659.4  \n",
       "7               8718.4                 8980               9258.3  \n",
       "\n",
       "[5 rows x 102 columns]"
      ]
     },
     "execution_count": 70,
     "metadata": {},
     "output_type": "execute_result"
    }
   ],
   "source": [
    "df_ipc.head()"
   ]
  },
  {
   "cell_type": "code",
   "execution_count": null,
   "id": "69ceabf4-7578-4a3e-9fd6-bcbc84f0044d",
   "metadata": {},
   "outputs": [],
   "source": [
    "df_ipc = df_ipc.iloc[6:19]  # Ajustamos índices (Pandas indexa desde 0)"
   ]
  },
  {
   "cell_type": "code",
   "execution_count": null,
   "id": "aebbcc18-d63e-4fdb-a766-93d944098cc2",
   "metadata": {},
   "outputs": [],
   "source": [
    "df_ipc.rename(columns={\"Unnamed: 0\": \"Mes\"}, inplace=True)"
   ]
  },
  {
   "cell_type": "code",
   "execution_count": null,
   "id": "2dc4ba43-3d5f-44c0-bfa5-6b39f79ebefc",
   "metadata": {},
   "outputs": [],
   "source": [
    "df_ipc.head()"
   ]
  },
  {
   "cell_type": "markdown",
   "id": "48749b87-e855-4d96-83af-3a7c82a35e71",
   "metadata": {},
   "source": [
    "# Unificacion de datasets"
   ]
  },
  {
   "cell_type": "code",
   "execution_count": null,
   "id": "fd08f3fd-cdd3-4a23-b419-04ccf33e0b79",
   "metadata": {},
   "outputs": [],
   "source": [
    "df_delictivo = pd.read_csv(\"Datos/df_TDF_SAT-Propiedad-BU_2017-2023.csv\", delimiter =',')"
   ]
  }
 ],
 "metadata": {
  "kernelspec": {
   "display_name": "Python 3 (ipykernel)",
   "language": "python",
   "name": "python3"
  },
  "language_info": {
   "codemirror_mode": {
    "name": "ipython",
    "version": 3
   },
   "file_extension": ".py",
   "mimetype": "text/x-python",
   "name": "python",
   "nbconvert_exporter": "python",
   "pygments_lexer": "ipython3",
   "version": "3.12.7"
  }
 },
 "nbformat": 4,
 "nbformat_minor": 5
}
